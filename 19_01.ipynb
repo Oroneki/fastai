{
 "cells": [
  {
   "cell_type": "code",
   "execution_count": 15,
   "metadata": {},
   "outputs": [],
   "source": [
    "%reload_ext autoreload\n",
    "%autoreload 2\n",
    "%matplotlib inline"
   ]
  },
  {
   "cell_type": "code",
   "execution_count": 16,
   "metadata": {},
   "outputs": [],
   "source": [
    "import fastai\n",
    "from fastai import *\n",
    "from fastai.vision import *"
   ]
  },
  {
   "cell_type": "markdown",
   "metadata": {},
   "source": [
    "### Python methods\n",
    "_dir()_ will give you the list of in scope variables\n",
    "_globals()_ will give you a dictionary of global variables\n",
    "_locals()_ will give you a dictionary of local variables"
   ]
  },
  {
   "cell_type": "code",
   "execution_count": 17,
   "metadata": {},
   "outputs": [
    {
     "name": "stdout",
     "output_type": "stream",
     "text": [
      "\n",
      "ActivationStats             \tAdamW                       \tAdaptiveConcatPool2d        \tAffineFunc                  \t\n",
      "AffineMatrix                \tAnnealFunc                  \tAny                         \tAnyStr                      \t\n",
      "ArgStar                     \tAverageMetric               \tBatchSampler                \tBatchSamples                \t\n",
      "BnFreeze                    \tBoolOrTensor                \tByteTensor                  \tCallable                    \t\n",
      "Callback                    \tCallbackHandler             \tCallbackList                \tClasses                     \t\n",
      "ClassificationInterpretation\tCollection                  \tConvLearner                 \tCoordFunc                   \t\n",
      "Counter                     \tCrossEntropyFlat            \tDATA_BASEDIR                \tDATA_DIR                    \t\n",
      "DOWNLOAD_FOLDER             \tDataBunch                   \tDataFrame                   \tDataFrameOrChunks           \t\n",
      "DataLoader                  \tDataset                     \tDatasetBase                 \tDatasetTfm                  \t\n",
      "Debugger                    \tDeviceDataLoader            \tDict                        \tDoubleTensor                \t\n",
      "EarlyStoppingCallback       \tEnum                        \tF                           \tFASTAI_FOLDER               \t\n",
      "Fbeta                       \tFilePathList                \tFlatten                     \tFloatOrTensor               \t\n",
      "FloatTensor                 \tFloats                      \tFlowField                   \tGeneralScheduler            \t\n",
      "GradientClipping            \tHOMEPATH_LIST               \tHalfTensor                  \tHashable                    \t\n",
      "Hook                        \tHookCallback                \tHookFunc                    \tHooks                       \t\n",
      "Image                       \tImageBBox                   \tImageClassificationDataset  \tImageDataBunch              \t\n",
      "ImageDataset                \tImageMultiDataset           \tImagePoints                 \tImageSegment                \t\n",
      "ImgLabel                    \tImgLabels                   \tIn                          \tIntEnum                     \t\n",
      "IntOrTensor                 \tItemBase                    \tItemsList                   \tIterable                    \t\n",
      "Iterator                    \tKWArgs                      \tKeyFunc                     \tLRFinder                    \t\n",
      "LabelDataset                \tLambda                      \tLambdaFunc                  \tLayerFunc                   \t\n",
      "Learner                     \tLearnerCallback             \tLightingFunc                \tList                        \t\n",
      "ListOrItem                  \tListRules                   \tListSizes                   \tLogitTensorImage            \t\n",
      "LongTensor                  \tLossFunction                \tMSELossFlat                 \tMapping                     \t\n",
      "MasterBar                   \tMetricFunc                  \tMetricFuncList              \tMetricsList                 \t\n",
      "MixUpCallback               \tMixUpLoss                   \tMixedPrecision              \tModel                       \t\n",
      "ModuleList                  \tNPArrayList                 \tNPArrayMask                 \tNPArrayableList             \t\n",
      "NPImage                     \tNewType                     \tNumber                      \tORTH                        \t\n",
      "ObjectDetectDataset         \tOneCycleScheduler           \tOptDataFrame                \tOptListOrItem               \t\n",
      "OptLossFunc                 \tOptMetrics                  \tOptOptimizer                \tOptRange                    \t\n",
      "OptSplitFunc                \tOptStats                    \tOptStrList                  \tOptStrTuple                 \t\n",
      "OptimWrapper                \tOptional                    \tOrderedDict                 \tOut                         \t\n",
      "PBar                        \tParamList                   \tPatch                       \tPath                        \t\n",
      "PathOrStr                   \tPixelFunc                   \tPoint                       \tPoints                      \t\n",
      "PoolFlatten                 \tProcessPoolExecutor         \tProgressBar                 \tRNNTrainer                  \t\n",
      "RandTransform               \tRank0Tensor                 \tRecorder                    \tResizeBatch                 \t\n",
      "Sampler                     \tSaveModelCallback           \tSegmentationDataset         \tSequence                    \t\n",
      "Series                      \tShortTensor                 \tShowGraph                   \tSimpleNamespace             \t\n",
      "Sizes                       \tSmoothenValue               \tSplitArrayList              \tSplitFunc                   \t\n",
      "SplitFuncOrIdxList          \tStartOptEnd                 \tStdUpsample                 \tStepper                     \t\n",
      "StrList                     \tTensor                      \tTensorDataset               \tTensorImage                 \t\n",
      "TensorImageSize             \tTensorOrNumList             \tTensorOrNumber              \tTensors                     \t\n",
      "TerminateOnNaNCallback      \tTfmAffine                   \tTfmCoord                    \tTfmCrop                     \t\n",
      "TfmLighting                 \tTfmPixel                    \tTfms                        \tThreadPoolExecutor          \t\n",
      "Tokens                      \tTrackerCallback             \tTrainingPhase               \tTransform                   \t\n",
      "Tuple                       \tTypeVar                     \tURLs                        \tUnion                       \t\n",
      "Weights                     \t_                           \t_9                          \t__                          \t\n",
      "___                         \t__builtin__                 \t__builtins__                \t__doc__                     \t\n",
      "__loader__                  \t__name__                    \t__package__                 \t__spec__                    \t\n",
      "_dh                         \t_exit_code                  \t_i                          \t_i1                         \t\n",
      "_i10                        \t_i11                        \t_i12                        \t_i13                        \t\n",
      "_i14                        \t_i15                        \t_i16                        \t_i17                        \t\n",
      "_i2                         \t_i3                         \t_i4                         \t_i5                         \t\n",
      "_i6                         \t_i7                         \t_i8                         \t_i9                         \t\n",
      "_ih                         \t_ii                         \t_iii                        \t_oh                         \t\n",
      "abc                         \tabstractmethod              \tabstractproperty            \taccuracy                    \t\n",
      "accuracy_thresh             \tannealing_cos               \tannealing_exp               \tannealing_linear            \t\n",
      "annealing_no                \tannealing_poly              \tapply_init                  \tapply_leaf                  \t\n",
      "apply_tfms                  \tarange_of                   \tarray                       \tarrays_split                \t\n",
      "as_tensor                   \tattrgetter                  \tbasic_data                  \tbasic_train                 \t\n",
      "bb2hw                       \tbn2float                    \tbn_drop_lin                 \tbn_types                    \t\n",
      "brightness                  \tcalc_loss                   \tcallback                    \tcallbacks                   \t\n",
      "camel2snake                 \tchannel_view                \tchildren                    \tcifar_denorm                \t\n",
      "cifar_norm                  \tcollections                 \tcond_init                   \tcontrast                    \t\n",
      "conv2d                      \tconv2d_relu                 \tconv2d_trans                \tconv_layer                  \t\n",
      "copy                        \tcore                        \tcos                         \tcreate_body                 \t\n",
      "create_head                 \tcrop                        \tcrop_pad                    \tcsv                         \t\n",
      "data                        \tdata_collate                \tdataclass                   \tdatapath4file               \t\n",
      "datasets                    \tdeepcopy                    \tdefault_lr                  \tdefault_wd                  \t\n",
      "defaultdict                 \tdefaults                    \tdenormalize                 \tdice                        \t\n",
      "dihedral                    \tdihedral_affine             \tdo_annealing_poly           \tdoc                         \t\n",
      "download_data               \tdownload_url                \tdst                         \tel                          \t\n",
      "error_rate                  \teven_mults                  \texit                        \texp                         \t\n",
      "exp_rmspe                   \textract_kwargs              \tfastai                      \tfastai_types                \t\n",
      "field                       \tfind_classes                \tfirst_layer                 \tfit                         \t\n",
      "fit_one_cycle               \tflatten_model               \tflip_affine                 \tflip_lr                     \t\n",
      "fp16                        \tfunctools                   \tgc                          \tgen_doc                     \t\n",
      "general_sched               \tget_annotations             \tget_chunk_length            \tget_embedding               \t\n",
      "get_image_files             \tget_ipython                 \tget_preds                   \tget_total_length            \t\n",
      "get_transforms              \tgzip                        \thashlib                     \thook_output                 \t\n",
      "hook_outputs                \thooks                       \thtml                        \ti                           \t\n",
      "idx_dict                    \tifnone                      \timage                       \timage2np                    \t\n",
      "imagenet_denorm             \timagenet_norm               \timagenet_stats              \timports                     \t\n",
      "in_channels                 \tinspect                     \tis_listy                    \tis_tuple                    \t\n",
      "itemgetter                  \titertools                   \tjitter                      \tjson                        \t\n",
      "layers                      \tlearner                     \tlistify                     \tlog                         \t\n",
      "log_uniform                 \tlogit                       \tlogit_                      \tloss_batch                  \t\n",
      "lr_find                     \tlr_finder                   \tmaster_bar                  \tmath                        \t\n",
      "maybe_copy                  \tmetrics                     \tmimetypes                   \tmixup                       \t\n",
      "mnist_denorm                \tmnist_norm                  \tmodel2half                  \tmodel_sizes                 \t\n",
      "model_type                  \tmodels                      \tnamedtuple                  \tnn                          \t\n",
      "noop                        \tnormalize                   \tnormalize_funcs             \tnp                          \t\n",
      "np2model_tensor             \tnp_address                  \tnum_children                \tnum_cpus                    \t\n",
      "num_features                \tone_cycle                   \tone_cycle_scheduler         \topen_image                  \t\n",
      "open_mask                   \toperator                    \toptim                       \tos                          \t\n",
      "pad                         \tpartial                     \tpartition                   \tpartition_by_cores          \t\n",
      "patches                     \tpatheffects                 \tpathlib                     \tpd                          \t\n",
      "perspective_warp            \tpickle                      \tpil2tensor                  \tplt                         \t\n",
      "pred_batch                  \tprogress_bar                \tquit                        \trand_bool                   \t\n",
      "rand_crop                   \trand_pad                    \trand_resize_crop            \trand_zoom                   \t\n",
      "random                      \trandom_split                \trange_children              \trange_of                    \t\n",
      "re                          \treduce                      \trequests                    \trequires_grad               \t\n",
      "rnn                         \trotate                      \tscale_flow                  \tscipy                       \t\n",
      "series2cat                  \tset_bn_eval                 \tset_trace                   \tshow_image                  \t\n",
      "show_image_batch            \tshow_images                 \tshow_install                \tshow_xy_images              \t\n",
      "shutil                      \tsimple_cnn                  \tsin                         \tsingledispatch              \t\n",
      "skew                        \tspacy                       \tsplit_bn_bias               \tsplit_model                 \t\n",
      "split_model_idx             \tsquish                      \tstd_upsample_head           \tsymmetric_warp              \t\n",
      "sys                         \ttan                         \ttanh                        \ttensor                      \t\n",
      "text                        \ttilt                        \tto_data                     \tto_detach                   \t\n",
      "to_device                   \tto_fp16                     \tto_half                     \tto_int                      \t\n",
      "to_np                       \ttorch                       \ttorch_core                  \ttracker                     \t\n",
      "train                       \ttrain_epoch                 \ttrainable_params            \ttrange_of                   \t\n",
      "transform                   \ttransform_datasets          \ttrunc_normal_               \ttta                         \t\n",
      "typing                      \tuniform                     \tuniform_int                 \tuniqueify                   \t\n",
      "untar_data                  \tutils                       \tvalidate                    \tversion                     \t\n",
      "vision                      \twarn                        \twarnings                    \tyaml                        \t\n",
      "zoom                        \tzoom_crop                   \t"
     ]
    }
   ],
   "source": [
    "for i, el in enumerate(dir()):\n",
    "    if i % 4 == 0: print()\n",
    "    print('{:28}'.format(el), end=\"\\t\")"
   ]
  },
  {
   "cell_type": "code",
   "execution_count": 18,
   "metadata": {},
   "outputs": [
    {
     "name": "stdout",
     "output_type": "stream",
     "text": [
      "fastai folder:\n",
      "/home/oroneki/anaconda3/envs/dl/lib/python3.7/site-packages/fastai\n",
      "\n",
      "fastai contents:\n",
      "basic_data.py\tcollab.py    imports\t  __pycache__\t train.py\n",
      "basic_train.py\tcore.py      __init__.py  tabular\t utils\n",
      "callback.py\tdatasets.py  layers.py\t  text\t\t version.py\n",
      "callbacks\tgen_doc      metrics.py   torch_core.py  vision\n",
      "\n",
      "--------------\n",
      "fastai __init__.py exports:\n",
      "--------------\n",
      "from .basic_train import *\n",
      "from .callback import *\n",
      "from .callbacks import *\n",
      "from .core import *\n",
      "from .basic_data import *\n",
      "from .layers import *\n",
      "from .metrics import *\n",
      "from .torch_core import *\n",
      "from .train import *\n",
      "from .gen_doc.nbdoc import doc\n",
      "from .datasets import *\n",
      "from .utils.collect_env import *\n",
      "from .version import __version__\n",
      "\n",
      "--------------\n",
      "fastai.vision exports\n",
      "--------------\n",
      "from .learner import *\n",
      "from .data import *\n",
      "from .image import *\n",
      "from .transform import *\n",
      "from .tta import *\n",
      "from . import models\n"
     ]
    }
   ],
   "source": [
    "import pathlib\n",
    "FASTAI_FOLDER = str(pathlib.PurePath(fastai.__file__).parent)\n",
    "!echo fastai folder:\n",
    "!echo {FASTAI_FOLDER}\n",
    "!echo\n",
    "!echo fastai contents:\n",
    "!ls {FASTAI_FOLDER}\n",
    "!echo\n",
    "!echo --------------\n",
    "!echo fastai __init__.py exports:\n",
    "!echo --------------\n",
    "!cat {FASTAI_FOLDER}/__init__.py\n",
    "!echo \n",
    "!echo --------------\n",
    "!echo fastai.vision exports\n",
    "!echo --------------\n",
    "!cat {FASTAI_FOLDER}/vision/__init__.py"
   ]
  },
  {
   "cell_type": "markdown",
   "metadata": {},
   "source": [
    "### dataset: \n",
    "#### http://www.robots.ox.ac.uk/~vgg/data/pets/"
   ]
  },
  {
   "cell_type": "code",
   "execution_count": 19,
   "metadata": {},
   "outputs": [
    {
     "name": "stdout",
     "output_type": "stream",
     "text": [
      "Help on function untar_data in module fastai.datasets:\n",
      "\n",
      "untar_data(url: str, fname: Union[pathlib.Path, str] = None, dest: Union[pathlib.Path, str] = None)\n",
      "    Download `url` if doesn't exist to `fname` and un-tgz to folder `dest`\n",
      "\n"
     ]
    }
   ],
   "source": [
    "help(untar_data)"
   ]
  },
  {
   "cell_type": "code",
   "execution_count": 25,
   "metadata": {},
   "outputs": [
    {
     "name": "stdout",
     "output_type": "stream",
     "text": [
      "/home/oroneki/data /home/oroneki/data/oxford-iiit-pet\n"
     ]
    }
   ],
   "source": [
    "HOMEPATH_LIST = !echo $HOME\n",
    "DATA_BASEDIR = pathlib.Path(HOMEPATH_LIST[0]) / 'data'\n",
    "DATA_DIR = DATA_BASEDIR / 'oxford-iiit-pet'\n",
    "print(DATA_BASEDIR, DATA_DIR)\n"
   ]
  },
  {
   "cell_type": "code",
   "execution_count": 26,
   "metadata": {},
   "outputs": [],
   "source": [
    "DOWNLOAD_FOLDER = pathlib.Path(HOMEPATH_LIST[0]) / 'Downloads'\n",
    "\n",
    "if not DOWNLOAD_FOLDER.exists():\n",
    "    DOWNLOAD_FOLDER.mkdir()\n",
    "    \n",
    "if not DATA_BASEDIR.exists():\n",
    "    DATA_BASEDIR.mkdir()\n"
   ]
  },
  {
   "cell_type": "code",
   "execution_count": 27,
   "metadata": {},
   "outputs": [
    {
     "name": "stdout",
     "output_type": "stream",
     "text": [
      "fastai_pets.tgz\n",
      "ls: cannot access '/home/oroneki/data/oxford-iiit-pet': No such file or directory\n"
     ]
    }
   ],
   "source": [
    "!ls {DOWNLOAD_FOLDER} | grep tgz"
   ]
  },
  {
   "cell_type": "code",
   "execution_count": 28,
   "metadata": {},
   "outputs": [
    {
     "data": {
      "text/plain": [
       "PosixPath('/home/oroneki/data/oxford-iiit-pet')"
      ]
     },
     "execution_count": 28,
     "metadata": {},
     "output_type": "execute_result"
    }
   ],
   "source": [
    "dst = untar_data(URLs.PETS, fname=(DOWNLOAD_FOLDER / 'fastai_pets.tgz'), dest=DATA_DIR, ); dst\n",
    "# untar_data ta miada\n",
    "# - nao da erro se o fname for um diretorio existente\n",
    "# - se especidicar uma pasta q enao existe em dest ele nao usa o mesmo nome da pasta e sim o nome original no folder acima e nao retorna o dest que ele mesmo escolheu\n",
    "# - se a pasta existir ele num faz nada\n"
   ]
  },
  {
   "cell_type": "markdown",
   "metadata": {},
   "source": [
    "## Jupyter Tip\n",
    "If the Hbox widget doesnt work, close everything and run into the notebook env:\n",
    "```jupyter labextension install @jupyter-widgets/jupyterlab-manager```"
   ]
  },
  {
   "cell_type": "code",
   "execution_count": 24,
   "metadata": {},
   "outputs": [
    {
     "data": {
      "text/plain": [
       "\u001b[0;31mSignature:\u001b[0m \u001b[0muntar_data\u001b[0m\u001b[0;34m(\u001b[0m\u001b[0murl\u001b[0m\u001b[0;34m:\u001b[0m \u001b[0mstr\u001b[0m\u001b[0;34m,\u001b[0m \u001b[0mfname\u001b[0m\u001b[0;34m:\u001b[0m \u001b[0mUnion\u001b[0m\u001b[0;34m[\u001b[0m\u001b[0mpathlib\u001b[0m\u001b[0;34m.\u001b[0m\u001b[0mPath\u001b[0m\u001b[0;34m,\u001b[0m \u001b[0mstr\u001b[0m\u001b[0;34m]\u001b[0m \u001b[0;34m=\u001b[0m \u001b[0;32mNone\u001b[0m\u001b[0;34m,\u001b[0m \u001b[0mdest\u001b[0m\u001b[0;34m:\u001b[0m \u001b[0mUnion\u001b[0m\u001b[0;34m[\u001b[0m\u001b[0mpathlib\u001b[0m\u001b[0;34m.\u001b[0m\u001b[0mPath\u001b[0m\u001b[0;34m,\u001b[0m \u001b[0mstr\u001b[0m\u001b[0;34m]\u001b[0m \u001b[0;34m=\u001b[0m \u001b[0;32mNone\u001b[0m\u001b[0;34m)\u001b[0m\u001b[0;34m\u001b[0m\u001b[0m\n",
       "\u001b[0;31mSource:\u001b[0m   \n",
       "\u001b[0;32mdef\u001b[0m \u001b[0muntar_data\u001b[0m\u001b[0;34m(\u001b[0m\u001b[0murl\u001b[0m\u001b[0;34m:\u001b[0m\u001b[0mstr\u001b[0m\u001b[0;34m,\u001b[0m \u001b[0mfname\u001b[0m\u001b[0;34m:\u001b[0m\u001b[0mPathOrStr\u001b[0m\u001b[0;34m=\u001b[0m\u001b[0;32mNone\u001b[0m\u001b[0;34m,\u001b[0m \u001b[0mdest\u001b[0m\u001b[0;34m:\u001b[0m\u001b[0mPathOrStr\u001b[0m\u001b[0;34m=\u001b[0m\u001b[0;32mNone\u001b[0m\u001b[0;34m)\u001b[0m\u001b[0;34m:\u001b[0m\u001b[0;34m\u001b[0m\n",
       "\u001b[0;34m\u001b[0m    \u001b[0;34m\"Download `url` if doesn't exist to `fname` and un-tgz to folder `dest`\"\u001b[0m\u001b[0;34m\u001b[0m\n",
       "\u001b[0;34m\u001b[0m    \u001b[0mdest\u001b[0m \u001b[0;34m=\u001b[0m \u001b[0mPath\u001b[0m\u001b[0;34m(\u001b[0m\u001b[0mifnone\u001b[0m\u001b[0;34m(\u001b[0m\u001b[0mdest\u001b[0m\u001b[0;34m,\u001b[0m \u001b[0m_url2path\u001b[0m\u001b[0;34m(\u001b[0m\u001b[0murl\u001b[0m\u001b[0;34m)\u001b[0m\u001b[0;34m)\u001b[0m\u001b[0;34m)\u001b[0m\u001b[0;34m\u001b[0m\n",
       "\u001b[0;34m\u001b[0m    \u001b[0mfname\u001b[0m \u001b[0;34m=\u001b[0m \u001b[0mdownload_data\u001b[0m\u001b[0;34m(\u001b[0m\u001b[0murl\u001b[0m\u001b[0;34m,\u001b[0m \u001b[0mfname\u001b[0m\u001b[0;34m=\u001b[0m\u001b[0mfname\u001b[0m\u001b[0;34m)\u001b[0m\u001b[0;34m\u001b[0m\n",
       "\u001b[0;34m\u001b[0m    \u001b[0;32mif\u001b[0m \u001b[0;32mnot\u001b[0m \u001b[0mdest\u001b[0m\u001b[0;34m.\u001b[0m\u001b[0mexists\u001b[0m\u001b[0;34m(\u001b[0m\u001b[0;34m)\u001b[0m\u001b[0;34m:\u001b[0m \u001b[0mtarfile\u001b[0m\u001b[0;34m.\u001b[0m\u001b[0mopen\u001b[0m\u001b[0;34m(\u001b[0m\u001b[0mfname\u001b[0m\u001b[0;34m,\u001b[0m \u001b[0;34m'r:gz'\u001b[0m\u001b[0;34m)\u001b[0m\u001b[0;34m.\u001b[0m\u001b[0mextractall\u001b[0m\u001b[0;34m(\u001b[0m\u001b[0mdest\u001b[0m\u001b[0;34m.\u001b[0m\u001b[0mparent\u001b[0m\u001b[0;34m)\u001b[0m\u001b[0;34m\u001b[0m\n",
       "\u001b[0;34m\u001b[0m    \u001b[0;32mreturn\u001b[0m \u001b[0mdest\u001b[0m\u001b[0;34m\u001b[0m\u001b[0m\n",
       "\u001b[0;31mFile:\u001b[0m      ~/anaconda3/envs/dl/lib/python3.7/site-packages/fastai/datasets.py\n",
       "\u001b[0;31mType:\u001b[0m      function\n"
      ]
     },
     "metadata": {},
     "output_type": "display_data"
    }
   ],
   "source": [
    "??untar_data"
   ]
  },
  {
   "cell_type": "code",
   "execution_count": 30,
   "metadata": {},
   "outputs": [
    {
     "data": {
      "text/plain": [
       "['images', 'annotations']"
      ]
     },
     "execution_count": 30,
     "metadata": {},
     "output_type": "execute_result"
    }
   ],
   "source": [
    "DATA_DIR.ls()"
   ]
  },
  {
   "cell_type": "code",
   "execution_count": 31,
   "metadata": {},
   "outputs": [],
   "source": [
    "path_anno = DATA_DIR / 'annotations'\n",
    "path_img  = DATA_DIR / 'images'"
   ]
  },
  {
   "cell_type": "code",
   "execution_count": 32,
   "metadata": {},
   "outputs": [
    {
     "data": {
      "text/plain": [
       "[PosixPath('/home/oroneki/data/oxford-iiit-pet/images/Maine_Coon_29.jpg'),\n",
       " PosixPath('/home/oroneki/data/oxford-iiit-pet/images/wheaten_terrier_38.jpg'),\n",
       " PosixPath('/home/oroneki/data/oxford-iiit-pet/images/basset_hound_149.jpg'),\n",
       " PosixPath('/home/oroneki/data/oxford-iiit-pet/images/Maine_Coon_32.jpg'),\n",
       " PosixPath('/home/oroneki/data/oxford-iiit-pet/images/scottish_terrier_133.jpg')]"
      ]
     },
     "execution_count": 32,
     "metadata": {},
     "output_type": "execute_result"
    }
   ],
   "source": [
    "fnames = get_image_files(path_img)\n",
    "fnames[:5]"
   ]
  },
  {
   "cell_type": "code",
   "execution_count": 34,
   "metadata": {},
   "outputs": [],
   "source": [
    "np.random.seed(2)\n",
    "pat = r'/([^/]+)_\\d+.jpg$'"
   ]
  },
  {
   "cell_type": "code",
   "execution_count": 37,
   "metadata": {},
   "outputs": [
    {
     "data": {
      "text/plain": [
       "\u001b[0;31mSignature:\u001b[0m \u001b[0mImageDataBunch\u001b[0m\u001b[0;34m.\u001b[0m\u001b[0mfrom_name_re\u001b[0m\u001b[0;34m(\u001b[0m\u001b[0mpath\u001b[0m\u001b[0;34m:\u001b[0m \u001b[0mUnion\u001b[0m\u001b[0;34m[\u001b[0m\u001b[0mpathlib\u001b[0m\u001b[0;34m.\u001b[0m\u001b[0mPath\u001b[0m\u001b[0;34m,\u001b[0m \u001b[0mstr\u001b[0m\u001b[0;34m]\u001b[0m\u001b[0;34m,\u001b[0m \u001b[0mfnames\u001b[0m\u001b[0;34m:\u001b[0m \u001b[0mCollection\u001b[0m\u001b[0;34m[\u001b[0m\u001b[0mpathlib\u001b[0m\u001b[0;34m.\u001b[0m\u001b[0mPath\u001b[0m\u001b[0;34m]\u001b[0m\u001b[0;34m,\u001b[0m \u001b[0mpat\u001b[0m\u001b[0;34m:\u001b[0m \u001b[0mstr\u001b[0m\u001b[0;34m,\u001b[0m \u001b[0mvalid_pct\u001b[0m\u001b[0;34m:\u001b[0m \u001b[0mint\u001b[0m \u001b[0;34m=\u001b[0m \u001b[0;36m0.2\u001b[0m\u001b[0;34m,\u001b[0m \u001b[0mtest\u001b[0m\u001b[0;34m:\u001b[0m \u001b[0mstr\u001b[0m \u001b[0;34m=\u001b[0m \u001b[0;32mNone\u001b[0m\u001b[0;34m,\u001b[0m \u001b[0;34m**\u001b[0m\u001b[0mkwargs\u001b[0m\u001b[0;34m)\u001b[0m\u001b[0;34m\u001b[0m\u001b[0m\n",
       "\u001b[0;31mDocstring:\u001b[0m <no docstring>\n",
       "\u001b[0;31mFile:\u001b[0m      ~/anaconda3/envs/dl/lib/python3.7/site-packages/fastai/vision/data.py\n",
       "\u001b[0;31mType:\u001b[0m      method\n"
      ]
     },
     "metadata": {},
     "output_type": "display_data"
    }
   ],
   "source": [
    "?ImageDataBunch.from_name_re"
   ]
  },
  {
   "cell_type": "code",
   "execution_count": 38,
   "metadata": {},
   "outputs": [
    {
     "data": {
      "text/plain": [
       "\u001b[0;31mSignature:\u001b[0m \u001b[0mImageDataBunch\u001b[0m\u001b[0;34m.\u001b[0m\u001b[0mfrom_name_re\u001b[0m\u001b[0;34m(\u001b[0m\u001b[0mpath\u001b[0m\u001b[0;34m:\u001b[0m \u001b[0mUnion\u001b[0m\u001b[0;34m[\u001b[0m\u001b[0mpathlib\u001b[0m\u001b[0;34m.\u001b[0m\u001b[0mPath\u001b[0m\u001b[0;34m,\u001b[0m \u001b[0mstr\u001b[0m\u001b[0;34m]\u001b[0m\u001b[0;34m,\u001b[0m \u001b[0mfnames\u001b[0m\u001b[0;34m:\u001b[0m \u001b[0mCollection\u001b[0m\u001b[0;34m[\u001b[0m\u001b[0mpathlib\u001b[0m\u001b[0;34m.\u001b[0m\u001b[0mPath\u001b[0m\u001b[0;34m]\u001b[0m\u001b[0;34m,\u001b[0m \u001b[0mpat\u001b[0m\u001b[0;34m:\u001b[0m \u001b[0mstr\u001b[0m\u001b[0;34m,\u001b[0m \u001b[0mvalid_pct\u001b[0m\u001b[0;34m:\u001b[0m \u001b[0mint\u001b[0m \u001b[0;34m=\u001b[0m \u001b[0;36m0.2\u001b[0m\u001b[0;34m,\u001b[0m \u001b[0mtest\u001b[0m\u001b[0;34m:\u001b[0m \u001b[0mstr\u001b[0m \u001b[0;34m=\u001b[0m \u001b[0;32mNone\u001b[0m\u001b[0;34m,\u001b[0m \u001b[0;34m**\u001b[0m\u001b[0mkwargs\u001b[0m\u001b[0;34m)\u001b[0m\u001b[0;34m\u001b[0m\u001b[0m\n",
       "\u001b[0;31mDocstring:\u001b[0m <no docstring>\n",
       "\u001b[0;31mSource:\u001b[0m   \n",
       "    \u001b[0;34m@\u001b[0m\u001b[0mclassmethod\u001b[0m\u001b[0;34m\u001b[0m\n",
       "\u001b[0;34m\u001b[0m    \u001b[0;32mdef\u001b[0m \u001b[0mfrom_name_re\u001b[0m\u001b[0;34m(\u001b[0m\u001b[0mcls\u001b[0m\u001b[0;34m,\u001b[0m \u001b[0mpath\u001b[0m\u001b[0;34m:\u001b[0m\u001b[0mPathOrStr\u001b[0m\u001b[0;34m,\u001b[0m \u001b[0mfnames\u001b[0m\u001b[0;34m:\u001b[0m\u001b[0mFilePathList\u001b[0m\u001b[0;34m,\u001b[0m \u001b[0mpat\u001b[0m\u001b[0;34m:\u001b[0m\u001b[0mstr\u001b[0m\u001b[0;34m,\u001b[0m \u001b[0mvalid_pct\u001b[0m\u001b[0;34m:\u001b[0m\u001b[0mint\u001b[0m\u001b[0;34m=\u001b[0m\u001b[0;36m0.2\u001b[0m\u001b[0;34m,\u001b[0m \u001b[0mtest\u001b[0m\u001b[0;34m:\u001b[0m\u001b[0mstr\u001b[0m\u001b[0;34m=\u001b[0m\u001b[0;32mNone\u001b[0m\u001b[0;34m,\u001b[0m \u001b[0;34m**\u001b[0m\u001b[0mkwargs\u001b[0m\u001b[0;34m)\u001b[0m\u001b[0;34m:\u001b[0m\u001b[0;34m\u001b[0m\n",
       "\u001b[0;34m\u001b[0m        \u001b[0mpat\u001b[0m \u001b[0;34m=\u001b[0m \u001b[0mre\u001b[0m\u001b[0;34m.\u001b[0m\u001b[0mcompile\u001b[0m\u001b[0;34m(\u001b[0m\u001b[0mpat\u001b[0m\u001b[0;34m)\u001b[0m\u001b[0;34m\u001b[0m\n",
       "\u001b[0;34m\u001b[0m        \u001b[0;32mdef\u001b[0m \u001b[0m_get_label\u001b[0m\u001b[0;34m(\u001b[0m\u001b[0mfn\u001b[0m\u001b[0;34m)\u001b[0m\u001b[0;34m:\u001b[0m \u001b[0;32mreturn\u001b[0m \u001b[0mpat\u001b[0m\u001b[0;34m.\u001b[0m\u001b[0msearch\u001b[0m\u001b[0;34m(\u001b[0m\u001b[0mstr\u001b[0m\u001b[0;34m(\u001b[0m\u001b[0mfn\u001b[0m\u001b[0;34m)\u001b[0m\u001b[0;34m)\u001b[0m\u001b[0;34m.\u001b[0m\u001b[0mgroup\u001b[0m\u001b[0;34m(\u001b[0m\u001b[0;36m1\u001b[0m\u001b[0;34m)\u001b[0m\u001b[0;34m\u001b[0m\n",
       "\u001b[0;34m\u001b[0m        \u001b[0;32mreturn\u001b[0m \u001b[0mcls\u001b[0m\u001b[0;34m.\u001b[0m\u001b[0mfrom_name_func\u001b[0m\u001b[0;34m(\u001b[0m\u001b[0mpath\u001b[0m\u001b[0;34m,\u001b[0m \u001b[0mfnames\u001b[0m\u001b[0;34m,\u001b[0m \u001b[0m_get_label\u001b[0m\u001b[0;34m,\u001b[0m \u001b[0mvalid_pct\u001b[0m\u001b[0;34m=\u001b[0m\u001b[0mvalid_pct\u001b[0m\u001b[0;34m,\u001b[0m \u001b[0mtest\u001b[0m\u001b[0;34m=\u001b[0m\u001b[0mtest\u001b[0m\u001b[0;34m,\u001b[0m \u001b[0;34m**\u001b[0m\u001b[0mkwargs\u001b[0m\u001b[0;34m)\u001b[0m\u001b[0;34m\u001b[0m\u001b[0m\n",
       "\u001b[0;31mFile:\u001b[0m      ~/anaconda3/envs/dl/lib/python3.7/site-packages/fastai/vision/data.py\n",
       "\u001b[0;31mType:\u001b[0m      method\n"
      ]
     },
     "metadata": {},
     "output_type": "display_data"
    }
   ],
   "source": [
    "??ImageDataBunch.from_name_re"
   ]
  },
  {
   "cell_type": "code",
   "execution_count": null,
   "metadata": {},
   "outputs": [],
   "source": [
    "data = ImageDataBunch.from_name_re(path_img, fnames, pat, ds_tfms=get_transforms(), size=224)\n",
    "data.normalize(imagenet_stats)"
   ]
  }
 ],
 "metadata": {
  "kernelspec": {
   "display_name": "dl (fastai)",
   "language": "python",
   "name": "dl"
  },
  "language_info": {
   "codemirror_mode": {
    "name": "ipython",
    "version": 3
   },
   "file_extension": ".py",
   "mimetype": "text/x-python",
   "name": "python",
   "nbconvert_exporter": "python",
   "pygments_lexer": "ipython3",
   "version": "3.7.0"
  }
 },
 "nbformat": 4,
 "nbformat_minor": 2
}
